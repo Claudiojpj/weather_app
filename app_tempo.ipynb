{
 "cells": [
  {
   "cell_type": "code",
   "execution_count": 34,
   "id": "93c78d70",
   "metadata": {},
   "outputs": [],
   "source": [
    "#library\n",
    "import requests\n",
    "import pywhatkit"
   ]
  },
  {
   "cell_type": "code",
   "execution_count": 2,
   "id": "91a5cff0",
   "metadata": {},
   "outputs": [],
   "source": [
    "#creating variables\n",
    "api_key = \"dffd6b0a7b24ca9eXXXXXXXXXXXX\" # create an account at https://openweathermap.org/\n",
    "city = \"Grand Falls\" #Choose a city by name"
   ]
  },
  {
   "cell_type": "code",
   "execution_count": 3,
   "id": "f9588de9",
   "metadata": {},
   "outputs": [],
   "source": [
    "# storing the informations requested by api in a variable\n",
    "link = f\"https://api.openweathermap.org/data/2.5/weather?q={city}&appid={api_key}&lang=pt_br\""
   ]
  },
  {
   "cell_type": "code",
   "execution_count": 4,
   "id": "da8074b9",
   "metadata": {},
   "outputs": [],
   "source": [
    "#doing the request\n",
    "request = requests.get(link)"
   ]
  },
  {
   "cell_type": "code",
   "execution_count": 6,
   "id": "4385ee1c",
   "metadata": {},
   "outputs": [],
   "source": [
    "#saving the request in a dictionary\n",
    "requisition_dic = request.json()"
   ]
  },
  {
   "cell_type": "code",
   "execution_count": 18,
   "id": "c98e0cd6",
   "metadata": {},
   "outputs": [],
   "source": [
    "#chossing the information like we want\n",
    "condition = requisition_dic['weather'][0]['description']\n",
    "temperature_min = round(requisition_dic['main']['temp_min']-273.15)\n",
    "temperature_max = round(requisition_dic['main']['temp_max']-273.15)"
   ]
  },
  {
   "cell_type": "code",
   "execution_count": 31,
   "id": "25ed5e73",
   "metadata": {},
   "outputs": [],
   "source": [
    "#creating a message\n",
    "message = f\"A condicao climática atual em {city} é: {condition},\"\\\n",
    "      ,f\" Temperatura minima:{temperature_min}°C,\"\\\n",
    "      f\" Temperatura máxima:{temperature_max}°C\""
   ]
  },
  {
   "cell_type": "code",
   "execution_count": 32,
   "id": "c042e917",
   "metadata": {},
   "outputs": [
    {
     "name": "stdout",
     "output_type": "stream",
     "text": [
      "('A condicao climática atual em Grand Falls é: nublado,', ' Temperatura minima:1°C, Temperatura máxima:4°C')\n"
     ]
    }
   ],
   "source": [
    "print(message)"
   ]
  },
  {
   "cell_type": "code",
   "execution_count": 33,
   "id": "ad39651f",
   "metadata": {},
   "outputs": [],
   "source": [
    "#function to send the message by whatsApp\n",
    "pywhatkit.sendwhatmsg_instantly(\"+55XXXXXXXXX\", f\"{message}\")"
   ]
  }
 ],
 "metadata": {
  "kernelspec": {
   "display_name": "Python 3 (ipykernel)",
   "language": "python",
   "name": "python3"
  },
  "language_info": {
   "codemirror_mode": {
    "name": "ipython",
    "version": 3
   },
   "file_extension": ".py",
   "mimetype": "text/x-python",
   "name": "python",
   "nbconvert_exporter": "python",
   "pygments_lexer": "ipython3",
   "version": "3.9.12"
  }
 },
 "nbformat": 4,
 "nbformat_minor": 5
}
